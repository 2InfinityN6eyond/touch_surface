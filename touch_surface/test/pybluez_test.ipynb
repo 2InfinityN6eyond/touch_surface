{
 "cells": [
  {
   "cell_type": "code",
   "execution_count": 6,
   "metadata": {},
   "outputs": [],
   "source": [
    "import bluetooth"
   ]
  },
  {
   "cell_type": "code",
   "execution_count": 7,
   "metadata": {},
   "outputs": [
    {
     "ename": "AttributeError",
     "evalue": "module 'lightblue' has no attribute 'socket'",
     "output_type": "error",
     "traceback": [
      "\u001b[0;31m---------------------------------------------------------------------------\u001b[0m",
      "\u001b[0;31mAttributeError\u001b[0m                            Traceback (most recent call last)",
      "\u001b[1;32m/Users/hjp/HJP/projs/touch_surface/touch_surface/test/pybluez_test.ipynb Cell 2\u001b[0m in \u001b[0;36m<cell line: 4>\u001b[0;34m()\u001b[0m\n\u001b[1;32m      <a href='vscode-notebook-cell:/Users/hjp/HJP/projs/touch_surface/touch_surface/test/pybluez_test.ipynb#ch0000001?line=0'>1</a>\u001b[0m bd_addr \u001b[39m=\u001b[39m \u001b[39m\"\u001b[39m\u001b[39m08:3A:F2:52:14:DA\u001b[39m\u001b[39m\"\u001b[39m\n\u001b[1;32m      <a href='vscode-notebook-cell:/Users/hjp/HJP/projs/touch_surface/touch_surface/test/pybluez_test.ipynb#ch0000001?line=2'>3</a>\u001b[0m port \u001b[39m=\u001b[39m \u001b[39m1\u001b[39m\n\u001b[0;32m----> <a href='vscode-notebook-cell:/Users/hjp/HJP/projs/touch_surface/touch_surface/test/pybluez_test.ipynb#ch0000001?line=3'>4</a>\u001b[0m sock\u001b[39m=\u001b[39mbluetooth\u001b[39m.\u001b[39;49mBluetoothSocket( bluetooth\u001b[39m.\u001b[39;49mRFCOMM )\n\u001b[1;32m      <a href='vscode-notebook-cell:/Users/hjp/HJP/projs/touch_surface/touch_surface/test/pybluez_test.ipynb#ch0000001?line=4'>5</a>\u001b[0m sock\u001b[39m.\u001b[39mconnect((bd_addr, port))\n\u001b[1;32m      <a href='vscode-notebook-cell:/Users/hjp/HJP/projs/touch_surface/touch_surface/test/pybluez_test.ipynb#ch0000001?line=5'>6</a>\u001b[0m \u001b[39mprint\u001b[39m(\u001b[39m\"\u001b[39m\u001b[39mconnected\u001b[39m\u001b[39m\"\u001b[39m)\n",
      "File \u001b[0;32m~/.pyenv/versions/3.10.5/envs/touch_surface/lib/python3.10/site-packages/bluetooth/macos.py:96\u001b[0m, in \u001b[0;36mBluetoothSocket.__init__\u001b[0;34m(self, proto, _sock)\u001b[0m\n\u001b[1;32m     94\u001b[0m \u001b[39mdef\u001b[39;00m \u001b[39m__init__\u001b[39m(\u001b[39mself\u001b[39m, proto\u001b[39m=\u001b[39mRFCOMM, _sock\u001b[39m=\u001b[39m\u001b[39mNone\u001b[39;00m):\n\u001b[1;32m     95\u001b[0m     \u001b[39mif\u001b[39;00m _sock \u001b[39mis\u001b[39;00m \u001b[39mNone\u001b[39;00m:\n\u001b[0;32m---> 96\u001b[0m         _sock \u001b[39m=\u001b[39m lightblue\u001b[39m.\u001b[39;49msocket()\n\u001b[1;32m     97\u001b[0m     \u001b[39mself\u001b[39m\u001b[39m.\u001b[39m_sock \u001b[39m=\u001b[39m _sock\n\u001b[1;32m     99\u001b[0m     \u001b[39mif\u001b[39;00m proto \u001b[39m!=\u001b[39m RFCOMM:\n\u001b[1;32m    100\u001b[0m         \u001b[39m# name the protocol\u001b[39;00m\n",
      "\u001b[0;31mAttributeError\u001b[0m: module 'lightblue' has no attribute 'socket'"
     ]
    }
   ],
   "source": [
    "\n",
    "bd_addr = \"08:3A:F2:52:14:DA\"\n",
    "\n",
    "port = 1\n",
    "sock=bluetooth.BluetoothSocket( bluetooth.RFCOMM )\n",
    "sock.connect((bd_addr, port))\n",
    "print(\"connected\")\n",
    "\n",
    "sock.settimeout(10.0)\n",
    "\n",
    "data = sock.recv(1024)\n",
    "\n",
    "print(data)\n",
    "\n",
    "sock.close()"
   ]
  },
  {
   "cell_type": "code",
   "execution_count": 5,
   "metadata": {},
   "outputs": [
    {
     "ename": "RuntimeError",
     "evalue": "asyncio.run() cannot be called from a running event loop",
     "output_type": "error",
     "traceback": [
      "\u001b[0;31m---------------------------------------------------------------------------\u001b[0m",
      "\u001b[0;31mRuntimeError\u001b[0m                              Traceback (most recent call last)",
      "\u001b[1;32m/Users/hjp/HJP/projs/touch_surface/touch_surface/test/pybluez_test.ipynb Cell 3\u001b[0m in \u001b[0;36m<cell line: 12>\u001b[0;34m()\u001b[0m\n\u001b[1;32m      <a href='vscode-notebook-cell:/Users/hjp/HJP/projs/touch_surface/touch_surface/test/pybluez_test.ipynb#ch0000002?line=8'>9</a>\u001b[0m         model_number \u001b[39m=\u001b[39m \u001b[39mawait\u001b[39;00m client\u001b[39m.\u001b[39mread_gatt_char(MODEL_NBR_UUID)\n\u001b[1;32m     <a href='vscode-notebook-cell:/Users/hjp/HJP/projs/touch_surface/touch_surface/test/pybluez_test.ipynb#ch0000002?line=9'>10</a>\u001b[0m         \u001b[39mprint\u001b[39m(\u001b[39m\"\u001b[39m\u001b[39mModel Number: \u001b[39m\u001b[39m{0}\u001b[39;00m\u001b[39m\"\u001b[39m\u001b[39m.\u001b[39mformat(\u001b[39m\"\u001b[39m\u001b[39m\"\u001b[39m\u001b[39m.\u001b[39mjoin(\u001b[39mmap\u001b[39m(\u001b[39mchr\u001b[39m, model_number))))\n\u001b[0;32m---> <a href='vscode-notebook-cell:/Users/hjp/HJP/projs/touch_surface/touch_surface/test/pybluez_test.ipynb#ch0000002?line=11'>12</a>\u001b[0m asyncio\u001b[39m.\u001b[39;49mrun(main(address))\n",
      "File \u001b[0;32m~/.pyenv/versions/3.10.5/lib/python3.10/asyncio/runners.py:33\u001b[0m, in \u001b[0;36mrun\u001b[0;34m(main, debug)\u001b[0m\n\u001b[1;32m      9\u001b[0m \u001b[39m\"\"\"Execute the coroutine and return the result.\u001b[39;00m\n\u001b[1;32m     10\u001b[0m \n\u001b[1;32m     11\u001b[0m \u001b[39mThis function runs the passed coroutine, taking care of\u001b[39;00m\n\u001b[0;32m   (...)\u001b[0m\n\u001b[1;32m     30\u001b[0m \u001b[39m    asyncio.run(main())\u001b[39;00m\n\u001b[1;32m     31\u001b[0m \u001b[39m\"\"\"\u001b[39;00m\n\u001b[1;32m     32\u001b[0m \u001b[39mif\u001b[39;00m events\u001b[39m.\u001b[39m_get_running_loop() \u001b[39mis\u001b[39;00m \u001b[39mnot\u001b[39;00m \u001b[39mNone\u001b[39;00m:\n\u001b[0;32m---> 33\u001b[0m     \u001b[39mraise\u001b[39;00m \u001b[39mRuntimeError\u001b[39;00m(\n\u001b[1;32m     34\u001b[0m         \u001b[39m\"\u001b[39m\u001b[39masyncio.run() cannot be called from a running event loop\u001b[39m\u001b[39m\"\u001b[39m)\n\u001b[1;32m     36\u001b[0m \u001b[39mif\u001b[39;00m \u001b[39mnot\u001b[39;00m coroutines\u001b[39m.\u001b[39miscoroutine(main):\n\u001b[1;32m     37\u001b[0m     \u001b[39mraise\u001b[39;00m \u001b[39mValueError\u001b[39;00m(\u001b[39m\"\u001b[39m\u001b[39ma coroutine was expected, got \u001b[39m\u001b[39m{!r}\u001b[39;00m\u001b[39m\"\u001b[39m\u001b[39m.\u001b[39mformat(main))\n",
      "\u001b[0;31mRuntimeError\u001b[0m: asyncio.run() cannot be called from a running event loop"
     ]
    }
   ],
   "source": [
    "import asyncio\n",
    "from bleak import BleakClient\n",
    "\n",
    "address = \"24:71:89:cc:09:05\"\n",
    "MODEL_NBR_UUID = \"00002a24-0000-1000-8000-00805f9b34fb\"\n",
    "\n",
    "async def main(address):\n",
    "    async with BleakClient(address) as client:\n",
    "        model_number = await client.read_gatt_char(MODEL_NBR_UUID)\n",
    "        print(\"Model Number: {0}\".format(\"\".join(map(chr, model_number))))\n",
    "\n",
    "asyncio.run(main(address))\n"
   ]
  }
 ],
 "metadata": {
  "kernelspec": {
   "display_name": "Python 3.10.5 64-bit ('touch_surface')",
   "language": "python",
   "name": "python3"
  },
  "language_info": {
   "codemirror_mode": {
    "name": "ipython",
    "version": 3
   },
   "file_extension": ".py",
   "mimetype": "text/x-python",
   "name": "python",
   "nbconvert_exporter": "python",
   "pygments_lexer": "ipython3",
   "version": "3.10.5"
  },
  "orig_nbformat": 4,
  "vscode": {
   "interpreter": {
    "hash": "30d37af8aec64751082559a6ab666d042915f925499db73a8ae78682322a9cb4"
   }
  }
 },
 "nbformat": 4,
 "nbformat_minor": 2
}
