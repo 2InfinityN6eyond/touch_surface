{
 "cells": [
  {
   "cell_type": "code",
   "execution_count": 2,
   "metadata": {},
   "outputs": [],
   "source": [
    "import bluetooth"
   ]
  },
  {
   "cell_type": "code",
   "execution_count": null,
   "metadata": {},
   "outputs": [],
   "source": [
    "\n",
    "bd_addr = \"00:12:10:23:10:18\" #itade address\n",
    "\n",
    "port = 1\n",
    "sock=bluetooth.BluetoothSocket( bluetooth.RFCOMM )\n",
    "sock.connect((bd_addr, port))\n",
    "print(\"connected\")\n",
    "\n",
    "sock.settimeout(10.0)\n",
    "\n",
    "data = sock.recv(1024)\n",
    "\n",
    "print(data)\n",
    "\n",
    "sock.close()"
   ]
  }
 ],
 "metadata": {
  "kernelspec": {
   "display_name": "Python 3.10.5 64-bit ('touch_surface')",
   "language": "python",
   "name": "python3"
  },
  "language_info": {
   "codemirror_mode": {
    "name": "ipython",
    "version": 3
   },
   "file_extension": ".py",
   "mimetype": "text/x-python",
   "name": "python",
   "nbconvert_exporter": "python",
   "pygments_lexer": "ipython3",
   "version": "3.10.5"
  },
  "orig_nbformat": 4,
  "vscode": {
   "interpreter": {
    "hash": "30d37af8aec64751082559a6ab666d042915f925499db73a8ae78682322a9cb4"
   }
  }
 },
 "nbformat": 4,
 "nbformat_minor": 2
}
