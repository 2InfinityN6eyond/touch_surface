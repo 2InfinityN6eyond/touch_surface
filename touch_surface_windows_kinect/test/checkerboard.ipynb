{
 "cells": [
  {
   "cell_type": "code",
   "execution_count": 2,
   "metadata": {},
   "outputs": [],
   "source": [
    "import numpy as np\n",
    "import cv2\n",
    "import matplotlib.pyplot as plt\n",
    "import math"
   ]
  },
  {
   "cell_type": "code",
   "execution_count": 19,
   "metadata": {},
   "outputs": [],
   "source": [
    "screen_width = 1920\n",
    "screen_height = 1080\n",
    "\n",
    "num_checker_ver = 5\n",
    "num_checker_hor = 9\n",
    "\n",
    "margin_rate = 0.1\n",
    "\n",
    "checker_size_pix = math.floor(min(\n",
    "    screen_height * 0.9 / num_checker_ver,\n",
    "    screen_width  * 0.9 / num_checker_hor\n",
    "))\n",
    "\n",
    "margin_top   = int((screen_height - checker_size_pix * num_checker_ver) / 2)\n",
    "margin_botom = screen_height - margin_top - checker_size_pix * num_checker_ver\n",
    "margin_left  = int((screen_width  - checker_size_pix * num_checker_hor) / 2)\n",
    "margin_right = screen_width - margin_left - checker_size_pix * num_checker_hor"
   ]
  },
  {
   "cell_type": "code",
   "execution_count": 43,
   "metadata": {},
   "outputs": [
    {
     "data": {
      "image/png": "[encoded data removed]",
      "text/plain": [
       "<Figure size 432x288 with 1 Axes>"
      ]
     },
     "metadata": {
      "needs_background": "light"
     },
     "output_type": "display_data"
    }
   ],
   "source": [
    "checker_seed = np.zeros((num_checker_ver, num_checker_hor), dtype=np.uint8)\n",
    "checker_seed[1::2,  ::2] = 255\n",
    "checker_seed[ ::2, 1::2] = 255\n",
    "\n",
    "checker = np.dstack((\n",
    "    np.kron(checker_seed, np.ones((checker_size_pix, checker_size_pix))),\n",
    "    np.kron(checker_seed, np.ones((checker_size_pix, checker_size_pix))),\n",
    "    np.kron(checker_seed, np.ones((checker_size_pix, checker_size_pix)))\n",
    "))\n",
    "\n",
    "\n",
    "checker_image = np.ones((screen_height, screen_width, 3), dtype=np.uint8) * 255\n",
    "checker_image[\n",
    "    margin_top:screen_height - margin_botom,\n",
    "    margin_left:screen_width -  margin_right,\n",
    "    :    \n",
    "] = checker\n",
    "\n",
    "plt.imshow(checker_image)\n",
    "plt.show()"
   ]
  },
  {
   "cell_type": "code",
   "execution_count": 44,
   "metadata": {},
   "outputs": [
    {
     "name": "stdout",
     "output_type": "stream",
     "text": [
      "(1080, 1920, 3)\n",
      "uint8\n",
      "192\n",
      "60 96\n"
     ]
    },
    {
     "data": {
      "image/png": "[encoded data removed]",
      "text/plain": [
       "<Figure size 432x288 with 1 Axes>"
      ]
     },
     "metadata": {
      "needs_background": "light"
     },
     "output_type": "display_data"
    }
   ],
   "source": [
    "# verify\n",
    "\n",
    "print(checker_image.shape)\n",
    "print(checker_image.dtype)\n",
    "\n",
    "print(checker_size_pix)\n",
    "print(margin_top, margin_left)\n",
    "\n",
    "ret, corners = cv2.findChessboardCorners(\n",
    "    checker_image,\n",
    "    (num_checker_hor - 1, num_checker_ver - 1),\n",
    "    flags = cv2.CALIB_CB_ADAPTIVE_THRESH +\n",
    "        cv2.CALIB_CB_FAST_CHECK +\n",
    "        cv2.CALIB_CB_NORMALIZE_IMAGE\n",
    ")\n",
    "\n",
    "for corner in corners :\n",
    "    vis_iamge = cv2.circle(\n",
    "        checker_image,\n",
    "        (int(corner[0][0]), int(corner[0][1])),\n",
    "        screen_width // 100,\n",
    "        (255, 100, 100),\n",
    "        -1\n",
    "    )\n",
    "\n",
    "plt.imshow(vis_iamge)\n",
    "plt.show()"
   ]
  },
  {
   "cell_type": "code",
   "execution_count": null,
   "metadata": {},
   "outputs": [],
   "source": []
  },
  {
   "cell_type": "code",
   "execution_count": null,
   "metadata": {},
   "outputs": [],
   "source": []
  }
 ],
 "metadata": {
  "kernelspec": {
   "display_name": "Python 3.7.10 64-bit ('touch_surface')",
   "language": "python",
   "name": "python3"
  },
  "language_info": {
   "codemirror_mode": {
    "name": "ipython",
    "version": 3
   },
   "file_extension": ".py",
   "mimetype": "text/x-python",
   "name": "python",
   "nbconvert_exporter": "python",
   "pygments_lexer": "ipython3",
   "version": "3.7.10"
  },
  "orig_nbformat": 4,
  "vscode": {
   "interpreter": {
    "hash": "1759a15f3b63cee2b8acacc1dbca7ce3b4d49be9cb8b070812486f52d7319cab"
   }
  }
 },
 "nbformat": 4,
 "nbformat_minor": 2
}
